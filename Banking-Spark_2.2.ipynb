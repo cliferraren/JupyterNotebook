{
 "cells": [
  {
   "cell_type": "markdown",
   "metadata": {
    "collapsed": true
   },
   "source": [
    "## Bank Demo—Marketing Analysis"
   ]
  },
  {
   "cell_type": "markdown",
   "metadata": {},
   "source": [
    "#### Starting Point: SparkSession"
   ]
  },
  {
   "cell_type": "code",
   "execution_count": 58,
   "metadata": {
    "collapsed": true
   },
   "outputs": [],
   "source": [
    "import org.apache.spark.sql.SparkSession"
   ]
  },
  {
   "cell_type": "code",
   "execution_count": 76,
   "metadata": {
    "collapsed": true
   },
   "outputs": [],
   "source": [
    "val spark = (SparkSession\n",
    "        .builder()\n",
    "        .appName(\"Banking\")\n",
    "        .master(\"local\")\n",
    "        .config(\"spark.sql.warehouse.dir\", \"tmp/sparksql\")\n",
    "        .getOrCreate())"
   ]
  },
  {
   "cell_type": "markdown",
   "metadata": {},
   "source": [
    "#### Creating DataFrames"
   ]
  },
  {
   "cell_type": "code",
   "execution_count": 77,
   "metadata": {},
   "outputs": [],
   "source": [
    " val df = (spark.read\n",
    "                   .option(\"header\", true)\n",
    "                   .option(\"delimiter\", \";\")\n",
    "                   .option(\"inferSchema\", true)\n",
    "                   .csv(\"data/bank-full.csv\"))"
   ]
  },
  {
   "cell_type": "code",
   "execution_count": 78,
   "metadata": {},
   "outputs": [
    {
     "name": "stdout",
     "output_type": "stream",
     "text": [
      "+---+------------+-------+---------+-------+-------+-------+----+-------+---+-----+--------+--------+-----+--------+--------+---+\n",
      "|age|         job|marital|education|default|balance|housing|loan|contact|day|month|duration|campaign|pdays|previous|poutcome|  y|\n",
      "+---+------------+-------+---------+-------+-------+-------+----+-------+---+-----+--------+--------+-----+--------+--------+---+\n",
      "| 58|  management|married| tertiary|     no|   2143|    yes|  no|unknown|  5|  may|     261|       1|   -1|       0| unknown| no|\n",
      "| 44|  technician| single|secondary|     no|     29|    yes|  no|unknown|  5|  may|     151|       1|   -1|       0| unknown| no|\n",
      "| 33|entrepreneur|married|secondary|     no|      2|    yes| yes|unknown|  5|  may|      76|       1|   -1|       0| unknown| no|\n",
      "| 47| blue-collar|married|  unknown|     no|   1506|    yes|  no|unknown|  5|  may|      92|       1|   -1|       0| unknown| no|\n",
      "| 33|     unknown| single|  unknown|     no|      1|     no|  no|unknown|  5|  may|     198|       1|   -1|       0| unknown| no|\n",
      "+---+------------+-------+---------+-------+-------+-------+----+-------+---+-----+--------+--------+-----+--------+--------+---+\n",
      "only showing top 5 rows\n",
      "\n"
     ]
    }
   ],
   "source": [
    "// Displays the content of the DataFrame to stdout\n",
    "df.show(5)"
   ]
  },
  {
   "cell_type": "code",
   "execution_count": 79,
   "metadata": {
    "scrolled": true
   },
   "outputs": [
    {
     "name": "stdout",
     "output_type": "stream",
     "text": [
      "root\n",
      " |-- age: integer (nullable = true)\n",
      " |-- job: string (nullable = true)\n",
      " |-- marital: string (nullable = true)\n",
      " |-- education: string (nullable = true)\n",
      " |-- default: string (nullable = true)\n",
      " |-- balance: integer (nullable = true)\n",
      " |-- housing: string (nullable = true)\n",
      " |-- loan: string (nullable = true)\n",
      " |-- contact: string (nullable = true)\n",
      " |-- day: integer (nullable = true)\n",
      " |-- month: string (nullable = true)\n",
      " |-- duration: integer (nullable = true)\n",
      " |-- campaign: integer (nullable = true)\n",
      " |-- pdays: integer (nullable = true)\n",
      " |-- previous: integer (nullable = true)\n",
      " |-- poutcome: string (nullable = true)\n",
      " |-- y: string (nullable = true)\n",
      "\n"
     ]
    }
   ],
   "source": [
    "// Print the schema in a tree format\n",
    "df.printSchema()"
   ]
  },
  {
   "cell_type": "markdown",
   "metadata": {},
   "source": [
    "#### This import is needed to use the $-notation"
   ]
  },
  {
   "cell_type": "code",
   "execution_count": 80,
   "metadata": {
    "collapsed": true
   },
   "outputs": [],
   "source": [
    "import spark.implicits._"
   ]
  },
  {
   "cell_type": "code",
   "execution_count": 81,
   "metadata": {},
   "outputs": [
    {
     "name": "stdout",
     "output_type": "stream",
     "text": [
      "Marketing Success Rate: 0.11698480458295547"
     ]
    }
   ],
   "source": [
    "//Give marketing success rate. (No. of people subscribed / total no. of entries)\n",
    "\n",
    "val success_rate = (df.filter($\"y\" === \"yes\").count).toDouble / (df.count).toDouble\n",
    "\n",
    "print(\"Marketing Success Rate: \" +success_rate)\n"
   ]
  },
  {
   "cell_type": "code",
   "execution_count": 91,
   "metadata": {},
   "outputs": [
    {
     "name": "stdout",
     "output_type": "stream",
     "text": [
      "+--------+--------+-----------------+\n",
      "|max(age)|min(age)|         avg(age)|\n",
      "+--------+--------+-----------------+\n",
      "|      95|      18|40.93621021432837|\n",
      "+--------+--------+-----------------+\n",
      "\n"
     ]
    }
   ],
   "source": [
    "//Check max, min, Mean and median age of average targeted customer \n",
    "\n",
    "df.select(max($\"age\"), min($\"age\"), mean($\"age\")).show()"
   ]
  },
  {
   "cell_type": "markdown",
   "metadata": {},
   "source": [
    "#### // Register the DataFrame as a SQL temporary view"
   ]
  },
  {
   "cell_type": "code",
   "execution_count": 86,
   "metadata": {
    "collapsed": true
   },
   "outputs": [],
   "source": [
    "df.createOrReplaceTempView(\"bank\")"
   ]
  },
  {
   "cell_type": "code",
   "execution_count": 88,
   "metadata": {
    "scrolled": false
   },
   "outputs": [
    {
     "name": "stdout",
     "output_type": "stream",
     "text": [
      "+----------------------------------------+\n",
      "|percentile(age, CAST(0.50 AS DOUBLE), 1)|\n",
      "+----------------------------------------+\n",
      "|                                    39.0|\n",
      "+----------------------------------------+\n",
      "\n"
     ]
    }
   ],
   "source": [
    "spark.sql(\"SELECT PERCENTILE(age, 0.50) FROM bank\").show()"
   ]
  },
  {
   "cell_type": "code",
   "execution_count": 114,
   "metadata": {},
   "outputs": [
    {
     "name": "stdout",
     "output_type": "stream",
     "text": [
      "+--------+--------+-----------------+----------------------------------------+\n",
      "|max(age)|min(age)|         avg(age)|percentile(age, CAST(0.50 AS DOUBLE), 1)|\n",
      "+--------+--------+-----------------+----------------------------------------+\n",
      "|      95|      18|40.93621021432837|                                    39.0|\n",
      "+--------+--------+-----------------+----------------------------------------+\n",
      "\n"
     ]
    }
   ],
   "source": [
    "spark.sql(\"select max(age), min(age), avg(age) , percentile(age, 0.50) from bank\").show()"
   ]
  },
  {
   "cell_type": "code",
   "execution_count": 111,
   "metadata": {},
   "outputs": [
    {
     "name": "stdout",
     "output_type": "stream",
     "text": [
      "+------------------+--------------------------------------------+\n",
      "|      avg(balance)|percentile(balance, CAST(0.50 AS DOUBLE), 1)|\n",
      "+------------------+--------------------------------------------+\n",
      "|1362.2720576850766|                                       448.0|\n",
      "+------------------+--------------------------------------------+\n",
      "\n"
     ]
    }
   ],
   "source": [
    "//Check quality of clients by checking average balance, median balance of clients \n",
    "\n",
    "spark.sql(\"SELECT AVG(balance) , PERCENTILE(balance, 0.50) FROM bank\").show()"
   ]
  },
  {
   "cell_type": "code",
   "execution_count": 90,
   "metadata": {},
   "outputs": [
    {
     "name": "stdout",
     "output_type": "stream",
     "text": [
      "+---+------------------+\n",
      "|  y|          avg(age)|\n",
      "+---+------------------+\n",
      "| no| 40.83898602274435|\n",
      "|yes|41.670069956513515|\n",
      "+---+------------------+\n",
      "\n"
     ]
    }
   ],
   "source": [
    "//Check if age matters in marketing subscription for deposit \n",
    "\n",
    "df.groupBy(\"y\").agg(avg($\"age\")).show()"
   ]
  },
  {
   "cell_type": "code",
   "execution_count": 92,
   "metadata": {},
   "outputs": [
    {
     "name": "stdout",
     "output_type": "stream",
     "text": [
      "+---+--------------+\n",
      "|  y|count(marital)|\n",
      "+---+--------------+\n",
      "| no|         39922|\n",
      "|yes|          5289|\n",
      "+---+--------------+\n",
      "\n"
     ]
    }
   ],
   "source": [
    "//Check if marital status mattered for subscription to deposit. \n",
    "\n",
    "df.groupBy(\"y\").agg(count($\"marital\")).show()"
   ]
  },
  {
   "cell_type": "code",
   "execution_count": 93,
   "metadata": {},
   "outputs": [
    {
     "name": "stdout",
     "output_type": "stream",
     "text": [
      "+--------+---+-----+\n",
      "| marital|  y|count|\n",
      "+--------+---+-----+\n",
      "|divorced|yes|  622|\n",
      "|  single| no|10878|\n",
      "|  single|yes| 1912|\n",
      "|divorced| no| 4585|\n",
      "| married|yes| 2755|\n",
      "| married| no|24459|\n",
      "+--------+---+-----+\n",
      "\n"
     ]
    }
   ],
   "source": [
    "// Check if age and marital status together mattered for subscription to deposit scheme \n",
    "\n",
    "df.groupBy(\"marital\",\"y\").count.show()"
   ]
  },
  {
   "cell_type": "code",
   "execution_count": 98,
   "metadata": {},
   "outputs": [
    {
     "name": "stdout",
     "output_type": "stream",
     "text": [
      "+---+---+-----+\n",
      "|age|  y|count|\n",
      "+---+---+-----+\n",
      "| 20| no|   35|\n",
      "| 78| no|   16|\n",
      "| 56|yes|   68|\n",
      "| 28|yes|  162|\n",
      "| 29|yes|  171|\n",
      "| 71| no|   29|\n",
      "| 86|yes|    4|\n",
      "| 57| no|  750|\n",
      "| 79|yes|   10|\n",
      "| 22|yes|   40|\n",
      "| 42| no| 1131|\n",
      "| 31|yes|  206|\n",
      "| 59|yes|   88|\n",
      "| 87|yes|    3|\n",
      "| 25| no|  414|\n",
      "| 34|yes|  198|\n",
      "| 23|yes|   44|\n",
      "| 63| no|   47|\n",
      "| 24| no|  234|\n",
      "| 64| no|   39|\n",
      "+---+---+-----+\n",
      "only showing top 20 rows\n",
      "\n"
     ]
    }
   ],
   "source": [
    "df.groupBy(\"age\",\"y\").count.show()"
   ]
  },
  {
   "cell_type": "code",
   "execution_count": 102,
   "metadata": {
    "collapsed": true
   },
   "outputs": [],
   "source": [
    "//Do Feature engineering for age column and find right age effect on campaign\n",
    "\n",
    "val df_new = df.withColumn(\"age_cat\", when($\"age\" < 25 , \"young\")\n",
    "                                    .otherwise( when($\"age\" > 60 , \"old\")\n",
    "                                    .otherwise(\"mid_age\")  ))"
   ]
  },
  {
   "cell_type": "code",
   "execution_count": 116,
   "metadata": {},
   "outputs": [
    {
     "name": "stdout",
     "output_type": "stream",
     "text": [
      "+-------+---+-----+\n",
      "|age_cat|  y|count|\n",
      "+-------+---+-----+\n",
      "|mid_age| no|38634|\n",
      "|mid_age|yes| 4580|\n",
      "|  young| no|  602|\n",
      "|    old|yes|  502|\n",
      "|    old| no|  686|\n",
      "|  young|yes|  207|\n",
      "+-------+---+-----+\n",
      "\n"
     ]
    }
   ],
   "source": [
    "df_new.groupBy(\"age_cat\",\"y\").count.show()"
   ]
  },
  {
   "cell_type": "code",
   "execution_count": null,
   "metadata": {
    "collapsed": true
   },
   "outputs": [],
   "source": []
  }
 ],
 "metadata": {
  "kernelspec": {
   "display_name": "Apache Toree - Scala",
   "language": "scala",
   "name": "apache_toree_scala"
  },
  "language_info": {
   "file_extension": ".scala",
   "name": "scala",
   "version": "2.11.8"
  }
 },
 "nbformat": 4,
 "nbformat_minor": 2
}
