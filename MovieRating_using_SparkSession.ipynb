{
 "cells": [
  {
   "cell_type": "markdown",
   "metadata": {},
   "source": [
    "### Load the Required Libraries"
   ]
  },
  {
   "cell_type": "code",
   "execution_count": 2,
   "metadata": {
    "collapsed": true
   },
   "outputs": [],
   "source": [
    "import org.apache.spark.sql.SparkSession\n",
    "import org.apache.spark.sql.types._\n"
   ]
  },
  {
   "cell_type": "markdown",
   "metadata": {},
   "source": [
    "#### Create SparkSession"
   ]
  },
  {
   "cell_type": "code",
   "execution_count": 3,
   "metadata": {
    "collapsed": true
   },
   "outputs": [],
   "source": [
    "val spark = SparkSession.\n",
    "            builder().\n",
    "            appName(\"MovieLens\").\n",
    "            config(\"spark.sql.warehouse.dir\", \"tmp/sparksql\").\n",
    "            getOrCreate()\n",
    "            "
   ]
  },
  {
   "cell_type": "markdown",
   "metadata": {},
   "source": [
    "#### Create Schema for Ratings Data and User Data"
   ]
  },
  {
   "cell_type": "code",
   "execution_count": 4,
   "metadata": {
    "collapsed": true
   },
   "outputs": [],
   "source": [
    "val schemaRating = StructType(List(StructField(\"userId\", IntegerType, true),\n",
    "                                    StructField(\"movieId\",IntegerType, true),\n",
    "                                    StructField(\"rating\", IntegerType, true), \n",
    "                                    StructField(\"timeStamp\", StringType, true)\n",
    "                                    )\n",
    "                                 ) "
   ]
  },
  {
   "cell_type": "code",
   "execution_count": 5,
   "metadata": {
    "collapsed": true
   },
   "outputs": [],
   "source": [
    "val schemaUser = StructType(List(StructField(\"userId\", IntegerType, true),\n",
    "                                    StructField(\"age\", IntegerType, true),\n",
    "                                    StructField(\"gender\", StringType, true), \n",
    "                                    StructField(\"occupation\", StringType, true),\n",
    "                                    StructField(\"zipCode\", StringType, true)\n",
    "                                    )\n",
    "                                )"
   ]
  },
  {
   "cell_type": "markdown",
   "metadata": {},
   "source": [
    "#### Explore the Data"
   ]
  },
  {
   "cell_type": "code",
   "execution_count": 6,
   "metadata": {},
   "outputs": [],
   "source": [
    "//Load the Ratings data\n",
    "\n",
    "val dfRating = spark.read.\n",
    "                        option(\"header\", false).\n",
    "                        schema(schemaRating).\n",
    "                        option(\"delimiter\", \"\\t\").\n",
    "                        csv(\"data/u.data\")\n",
    "                            "
   ]
  },
  {
   "cell_type": "code",
   "execution_count": 7,
   "metadata": {
    "collapsed": true
   },
   "outputs": [],
   "source": [
    "//Load the Users data\n",
    "\n",
    "val dfUser = spark.read.\n",
    "                        option(\"header\", false).\n",
    "                        schema(schemaUser).\n",
    "                        option(\"delimiter\", \"|\").\n",
    "                        csv(\"data/u.user\")\n",
    "                            "
   ]
  },
  {
   "cell_type": "markdown",
   "metadata": {},
   "source": [
    "#### Check the Contents of the loaded data"
   ]
  },
  {
   "cell_type": "code",
   "execution_count": 8,
   "metadata": {},
   "outputs": [
    {
     "name": "stdout",
     "output_type": "stream",
     "text": [
      "+------+-------+------+---------+\n",
      "|userId|movieId|rating|timeStamp|\n",
      "+------+-------+------+---------+\n",
      "|   196|    242|     3|881250949|\n",
      "|   186|    302|     3|891717742|\n",
      "|    22|    377|     1|878887116|\n",
      "|   244|     51|     2|880606923|\n",
      "|   166|    346|     1|886397596|\n",
      "+------+-------+------+---------+\n",
      "only showing top 5 rows\n",
      "\n"
     ]
    }
   ],
   "source": [
    "dfRating.show(5)"
   ]
  },
  {
   "cell_type": "code",
   "execution_count": 9,
   "metadata": {
    "scrolled": false
   },
   "outputs": [
    {
     "name": "stdout",
     "output_type": "stream",
     "text": [
      "+------+---+------+----------+-------+\n",
      "|userId|age|gender|occupation|zipCode|\n",
      "+------+---+------+----------+-------+\n",
      "|     1| 24|     M|technician|  85711|\n",
      "|     2| 53|     F|     other|  94043|\n",
      "|     3| 23|     M|    writer|  32067|\n",
      "|     4| 24|     M|technician|  43537|\n",
      "|     5| 33|     F|     other|  15213|\n",
      "+------+---+------+----------+-------+\n",
      "only showing top 5 rows\n",
      "\n"
     ]
    }
   ],
   "source": [
    "dfUser.show(5)"
   ]
  },
  {
   "cell_type": "markdown",
   "metadata": {},
   "source": [
    "#### Print Schema"
   ]
  },
  {
   "cell_type": "code",
   "execution_count": 10,
   "metadata": {},
   "outputs": [
    {
     "name": "stdout",
     "output_type": "stream",
     "text": [
      "root\n",
      " |-- userId: integer (nullable = true)\n",
      " |-- movieId: integer (nullable = true)\n",
      " |-- rating: integer (nullable = true)\n",
      " |-- timeStamp: string (nullable = true)\n",
      "\n"
     ]
    }
   ],
   "source": [
    "dfRating.printSchema()\n"
   ]
  },
  {
   "cell_type": "code",
   "execution_count": 11,
   "metadata": {},
   "outputs": [
    {
     "name": "stdout",
     "output_type": "stream",
     "text": [
      "root\n",
      " |-- userId: integer (nullable = true)\n",
      " |-- age: integer (nullable = true)\n",
      " |-- gender: string (nullable = true)\n",
      " |-- occupation: string (nullable = true)\n",
      " |-- zipCode: string (nullable = true)\n",
      "\n"
     ]
    }
   ],
   "source": [
    "dfUser.printSchema()"
   ]
  },
  {
   "cell_type": "markdown",
   "metadata": {},
   "source": [
    "#### Register the DataFrame as a SQL temporary view"
   ]
  },
  {
   "cell_type": "code",
   "execution_count": 12,
   "metadata": {
    "collapsed": true
   },
   "outputs": [],
   "source": [
    "dfRating.createOrReplaceTempView(\"mRating\")\n",
    "dfUser.createOrReplaceTempView(\"MovieGoer\")"
   ]
  },
  {
   "cell_type": "markdown",
   "metadata": {},
   "source": [
    "#### Select Query for Movie Ratings"
   ]
  },
  {
   "cell_type": "code",
   "execution_count": 13,
   "metadata": {
    "scrolled": true
   },
   "outputs": [
    {
     "name": "stdout",
     "output_type": "stream",
     "text": [
      "+---------+---------+-------+\n",
      "| col_name|data_type|comment|\n",
      "+---------+---------+-------+\n",
      "|   userId|      int|   null|\n",
      "|  movieId|      int|   null|\n",
      "|   rating|      int|   null|\n",
      "|timeStamp|   string|   null|\n",
      "+---------+---------+-------+\n",
      "\n"
     ]
    }
   ],
   "source": [
    "//Describe mRating Table\n",
    "spark.sql(\"describe mRating\").show()"
   ]
  },
  {
   "cell_type": "code",
   "execution_count": 14,
   "metadata": {
    "scrolled": true
   },
   "outputs": [
    {
     "name": "stdout",
     "output_type": "stream",
     "text": [
      "+--------+\n",
      "|count(1)|\n",
      "+--------+\n",
      "|  100000|\n",
      "+--------+\n",
      "\n"
     ]
    }
   ],
   "source": [
    "//Total number of ratings\n",
    "spark.sql(\"SELECT COUNT(*) FROM mRating\").show()"
   ]
  },
  {
   "cell_type": "code",
   "execution_count": 15,
   "metadata": {
    "scrolled": false
   },
   "outputs": [
    {
     "name": "stdout",
     "output_type": "stream",
     "text": [
      "+------+----------------+\n",
      "|userId|NumOfRatedMovies|\n",
      "+------+----------------+\n",
      "|   405|             737|\n",
      "|   655|             685|\n",
      "|    13|             636|\n",
      "|   450|             540|\n",
      "|   276|             518|\n",
      "|   416|             493|\n",
      "|   537|             490|\n",
      "|   303|             484|\n",
      "|   234|             480|\n",
      "|   393|             448|\n",
      "|   181|             435|\n",
      "|   279|             434|\n",
      "|   429|             414|\n",
      "|   846|             405|\n",
      "|     7|             403|\n",
      "|    94|             400|\n",
      "|   682|             399|\n",
      "|   308|             397|\n",
      "|   293|             388|\n",
      "|    92|             388|\n",
      "+------+----------------+\n",
      "\n"
     ]
    }
   ],
   "source": [
    "//Show UserID and the number movies rated\n",
    "spark.sql(\"SELECT userId, COUNT(movieId) AS NumOfRatedMovies FROM mRating GROUP BY userId ORDER BY NumOfRatedMovies DESC LIMIT 20\").show()"
   ]
  },
  {
   "cell_type": "code",
   "execution_count": 16,
   "metadata": {
    "scrolled": false
   },
   "outputs": [
    {
     "name": "stdout",
     "output_type": "stream",
     "text": [
      "+-------+------------+\n",
      "|movieId|NumOfRatings|\n",
      "+-------+------------+\n",
      "|     50|         583|\n",
      "|    258|         509|\n",
      "|    100|         508|\n",
      "|    181|         507|\n",
      "|    294|         485|\n",
      "|    286|         481|\n",
      "|    288|         478|\n",
      "|      1|         452|\n",
      "|    300|         431|\n",
      "|    121|         429|\n",
      "|    174|         420|\n",
      "|    127|         413|\n",
      "|     56|         394|\n",
      "|      7|         392|\n",
      "|     98|         390|\n",
      "|    237|         384|\n",
      "|    117|         378|\n",
      "|    172|         367|\n",
      "|    222|         365|\n",
      "|    313|         350|\n",
      "+-------+------------+\n",
      "\n"
     ]
    }
   ],
   "source": [
    "//The Number of times the movie has been reviewed and rated\n",
    "spark.sql(\"SELECT movieId, count(userId) AS NumOfRatings FROM mRating GROUP BY movieId ORDER BY NumOfRatings DESC LIMIT 20\").show()"
   ]
  },
  {
   "cell_type": "markdown",
   "metadata": {},
   "source": [
    "#### Select Query for User Table"
   ]
  },
  {
   "cell_type": "code",
   "execution_count": 17,
   "metadata": {
    "scrolled": true
   },
   "outputs": [
    {
     "name": "stdout",
     "output_type": "stream",
     "text": [
      "+----------+---------+-------+\n",
      "|  col_name|data_type|comment|\n",
      "+----------+---------+-------+\n",
      "|    userId|      int|   null|\n",
      "|       age|      int|   null|\n",
      "|    gender|   string|   null|\n",
      "|occupation|   string|   null|\n",
      "|   zipCode|   string|   null|\n",
      "+----------+---------+-------+\n",
      "\n"
     ]
    }
   ],
   "source": [
    "spark.sql(\"DESCRIBE MovieGoer\").show()"
   ]
  },
  {
   "cell_type": "code",
   "execution_count": 18,
   "metadata": {},
   "outputs": [
    {
     "name": "stdout",
     "output_type": "stream",
     "text": [
      "+------+---+------+-------------+-------+\n",
      "|userId|age|gender|   occupation|zipCode|\n",
      "+------+---+------+-------------+-------+\n",
      "|     1| 24|     M|   technician|  85711|\n",
      "|     2| 53|     F|        other|  94043|\n",
      "|     3| 23|     M|       writer|  32067|\n",
      "|     4| 24|     M|   technician|  43537|\n",
      "|     5| 33|     F|        other|  15213|\n",
      "|     6| 42|     M|    executive|  98101|\n",
      "|     7| 57|     M|administrator|  91344|\n",
      "|     8| 36|     M|administrator|  05201|\n",
      "|     9| 29|     M|      student|  01002|\n",
      "|    10| 53|     M|       lawyer|  90703|\n",
      "|    11| 39|     F|        other|  30329|\n",
      "|    12| 28|     F|        other|  06405|\n",
      "|    13| 47|     M|     educator|  29206|\n",
      "|    14| 45|     M|    scientist|  55106|\n",
      "|    15| 49|     F|     educator|  97301|\n",
      "|    16| 21|     M|entertainment|  10309|\n",
      "|    17| 30|     M|   programmer|  06355|\n",
      "|    18| 35|     F|        other|  37212|\n",
      "|    19| 40|     M|    librarian|  02138|\n",
      "|    20| 42|     F|    homemaker|  95660|\n",
      "+------+---+------+-------------+-------+\n",
      "only showing top 20 rows\n",
      "\n"
     ]
    }
   ],
   "source": [
    "spark.sql(\"SELECT * FROM MovieGoer\").show()"
   ]
  },
  {
   "cell_type": "code",
   "execution_count": 19,
   "metadata": {},
   "outputs": [
    {
     "name": "stdout",
     "output_type": "stream",
     "text": [
      "+------------+\n",
      "|NUM_Reviewer|\n",
      "+------------+\n",
      "|         943|\n",
      "+------------+\n",
      "\n"
     ]
    }
   ],
   "source": [
    "spark.sql(\"SELECT COUNT(*)as NUM_Reviewer FROM MovieGoer\").show()"
   ]
  },
  {
   "cell_type": "code",
   "execution_count": 20,
   "metadata": {},
   "outputs": [
    {
     "name": "stdout",
     "output_type": "stream",
     "text": [
      "+------+---+\n",
      "|gender| No|\n",
      "+------+---+\n",
      "|     F|273|\n",
      "|     M|670|\n",
      "+------+---+\n",
      "\n"
     ]
    }
   ],
   "source": [
    "spark.sql(\"SELECT gender, COUNT(*) as No FROM MovieGoer GROUP BY gender\").show()"
   ]
  },
  {
   "cell_type": "code",
   "execution_count": 21,
   "metadata": {},
   "outputs": [
    {
     "name": "stdout",
     "output_type": "stream",
     "text": [
      "+------+---+------+----------+-------+------+\n",
      "|userId|age|gender|occupation|movieId|rating|\n",
      "+------+---+------+----------+-------+------+\n",
      "|     1| 24|     M|technician|     94|     2|\n",
      "|     1| 24|     M|technician|    152|     5|\n",
      "|     1| 24|     M|technician|    122|     3|\n",
      "|     1| 24|     M|technician|    172|     5|\n",
      "|     1| 24|     M|technician|     28|     4|\n",
      "|     1| 24|     M|technician|     13|     5|\n",
      "|     1| 24|     M|technician|     88|     4|\n",
      "|     1| 24|     M|technician|     52|     4|\n",
      "|     1| 24|     M|technician|    111|     5|\n",
      "|     1| 24|     M|technician|     15|     5|\n",
      "|     1| 24|     M|technician|     59|     5|\n",
      "|     1| 24|     M|technician|     18|     4|\n",
      "|     1| 24|     M|technician|     29|     1|\n",
      "|     1| 24|     M|technician|     19|     5|\n",
      "|     1| 24|     M|technician|    244|     2|\n",
      "|     1| 24|     M|technician|    207|     5|\n",
      "|     1| 24|     M|technician|      3|     4|\n",
      "|     1| 24|     M|technician|    204|     5|\n",
      "|     1| 24|     M|technician|    231|     1|\n",
      "|     1| 24|     M|technician|     83|     3|\n",
      "+------+---+------+----------+-------+------+\n",
      "only showing top 20 rows\n",
      "\n"
     ]
    }
   ],
   "source": [
    "spark.sql(\"SELECT usr.userId, usr.age, usr.gender, usr.occupation, mov.movieId, mov.rating FROM MovieGoer usr JOIN mRating mov ON usr.userId = mov.userId\").show()"
   ]
  },
  {
   "cell_type": "code",
   "execution_count": null,
   "metadata": {
    "collapsed": true
   },
   "outputs": [],
   "source": []
  }
 ],
 "metadata": {
  "kernelspec": {
   "display_name": "Apache Toree - Scala",
   "language": "scala",
   "name": "apache_toree_scala"
  },
  "language_info": {
   "file_extension": ".scala",
   "name": "scala",
   "version": "2.11.8"
  }
 },
 "nbformat": 4,
 "nbformat_minor": 2
}
